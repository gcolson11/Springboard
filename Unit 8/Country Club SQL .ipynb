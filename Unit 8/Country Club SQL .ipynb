{
 "cells": [
  {
   "cell_type": "code",
   "execution_count": 1,
   "metadata": {},
   "outputs": [],
   "source": [
    "import sqlite3\n",
    "from sqlite3 import Error"
   ]
  },
  {
   "cell_type": "code",
   "execution_count": 2,
   "metadata": {},
   "outputs": [],
   "source": [
    "def create_connection(db_file):\n",
    "    \"\"\" create a database connection to the SQLite database\n",
    "        specified by the db_file\n",
    "    :param db_file: database file\n",
    "    :return: Connection object or None\n",
    "    \"\"\"\n",
    "    conn = None\n",
    "    try:\n",
    "        conn = sqlite3.connect(db_file)\n",
    "        print(sqlite3.version)\n",
    "    except Error as e:\n",
    "        print(e)\n",
    " \n",
    "    return conn"
   ]
  },
  {
   "cell_type": "code",
   "execution_count": 3,
   "metadata": {},
   "outputs": [],
   "source": [
    "# Q10: Produce a list of facilities with a total revenue less than 1000.\n",
    "# The output of facility name and total revenue, sorted by revenue. Remember\n",
    "# that there's a different cost for guests and members!\n",
    "def select_all_tasks(conn):\n",
    "    \"\"\"\n",
    "    Query all rows in the tasks table\n",
    "    :param conn: the Connection object\n",
    "    :return:\n",
    "    \"\"\"\n",
    "    cur = conn.cursor()\n",
    "    \n",
    "    query10 = \"\"\"\n",
    "        SELECT f.name,\n",
    "               SUM(CASE WHEN m.surname = 'GUEST' THEN (f.guestcost * b.slots)\n",
    "                        ELSE (f.membercost * b.slots) END) AS total_revenue\n",
    "        FROM Bookings AS b\n",
    "        INNER JOIN Facilities AS f USING (facid)\n",
    "        INNER JOIN Members AS m USING (memid)\n",
    "        GROUP BY f.name\n",
    "        HAVING SUM(CASE WHEN m.surname = 'GUEST' THEN (f.guestcost * b.slots)\n",
    "                        ELSE (f.membercost * b.slots) END) < 1000\n",
    "        \"\"\"\n",
    "    cur.execute(query10)\n",
    " \n",
    "    rows = cur.fetchall()\n",
    " \n",
    "    for row in rows:\n",
    "        print(row)"
   ]
  },
  {
   "cell_type": "code",
   "execution_count": 4,
   "metadata": {},
   "outputs": [
    {
     "name": "stdout",
     "output_type": "stream",
     "text": [
      "2.6.0\n",
      "2. Query all tasks\n",
      "('Pool Table', 270)\n",
      "('Snooker Table', 240)\n",
      "('Table Tennis', 180)\n"
     ]
    }
   ],
   "source": [
    "def main():\n",
    "    database = \"sqlite_db_pythonsqlite.db\"\n",
    " \n",
    "    # create a database connection\n",
    "    conn = create_connection(database)\n",
    "    with conn: \n",
    "        print(\"2. Query all tasks\")\n",
    "        select_all_tasks(conn)\n",
    " \n",
    " \n",
    "if __name__ == '__main__':\n",
    "    main()"
   ]
  },
  {
   "cell_type": "code",
   "execution_count": 5,
   "metadata": {},
   "outputs": [],
   "source": [
    "# Q11: Produce a report of members and who recommended them in alphabetic surname,firstname order\n",
    "def select_all_tasks(conn):\n",
    "    \"\"\"\n",
    "    Query all rows in the tasks table\n",
    "    :param conn: the Connection object\n",
    "    :return:\n",
    "    \"\"\"\n",
    "    cur = conn.cursor()\n",
    "    \n",
    "    query11 = \"\"\"\n",
    "        SELECT m1.surname || ', ' || m1.firstname as member_name, m2.surname || ', ' || m2.firstname as recommender\n",
    "        FROM Members AS m1\n",
    "        INNER JOIN Members AS m2\n",
    "        ON m1.recommendedby = m2.memid\n",
    "        WHERE m2.surname != 'GUEST'\n",
    "        ORDER BY m1.surname\n",
    "        \"\"\"\n",
    "    cur.execute(query11)\n",
    " \n",
    "    rows = cur.fetchall()\n",
    " \n",
    "    for row in rows:\n",
    "        print(row)"
   ]
  },
  {
   "cell_type": "code",
   "execution_count": 6,
   "metadata": {},
   "outputs": [
    {
     "name": "stdout",
     "output_type": "stream",
     "text": [
      "2.6.0\n",
      "2. Query all tasks\n",
      "('Bader, Florence', 'Stibbons, Ponder')\n",
      "('Baker, Anne', 'Stibbons, Ponder')\n",
      "('Baker, Timothy', 'Farrell, Jemima')\n",
      "('Boothe, Tim', 'Rownam, Tim')\n",
      "('Butters, Gerald', 'Smith, Darren')\n",
      "('Coplin, Joan', 'Baker, Timothy')\n",
      "('Crumpet, Erica', 'Smith, Tracy')\n",
      "('Dare, Nancy', 'Joplette, Janice')\n",
      "('Genting, Matthew', 'Butters, Gerald')\n",
      "('Hunt, John', 'Purview, Millicent')\n",
      "('Jones, David', 'Joplette, Janice')\n",
      "('Jones, Douglas', 'Jones, David')\n",
      "('Joplette, Janice', 'Smith, Darren')\n",
      "('Mackenzie, Anna', 'Smith, Darren')\n",
      "('Owen, Charles', 'Smith, Darren')\n",
      "('Pinker, David', 'Farrell, Jemima')\n",
      "('Purview, Millicent', 'Smith, Tracy')\n",
      "('Rumney, Henrietta', 'Genting, Matthew')\n",
      "('Sarwin, Ramnaresh', 'Bader, Florence')\n",
      "('Smith, Jack', 'Smith, Darren')\n",
      "('Stibbons, Ponder', 'Tracy, Burton')\n",
      "('Worthington-Smyth, Henry', 'Smith, Tracy')\n"
     ]
    }
   ],
   "source": [
    "def main():\n",
    "    database = \"sqlite_db_pythonsqlite.db\"\n",
    " \n",
    "    # create a database connection\n",
    "    conn = create_connection(database)\n",
    "    with conn: \n",
    "        print(\"2. Query all tasks\")\n",
    "        select_all_tasks(conn)\n",
    " \n",
    " \n",
    "if __name__ == '__main__':\n",
    "    main()"
   ]
  },
  {
   "cell_type": "code",
   "execution_count": 7,
   "metadata": {},
   "outputs": [],
   "source": [
    "# Q12: Find the facilities with their usage by member, but not guests\n",
    "def select_all_tasks(conn):\n",
    "    \"\"\"\n",
    "    Query all rows in the tasks table\n",
    "    :param conn: the Connection object\n",
    "    :return:\n",
    "    \"\"\"\n",
    "    cur = conn.cursor()\n",
    "    \n",
    "    query12 = \"\"\"\n",
    "        SELECT f.name, COUNT(memid) AS member_uses\n",
    "        FROM Bookings AS b\n",
    "        INNER JOIN Facilities AS f USING (facid)\n",
    "        INNER JOIN Members AS m USING (memid)\n",
    "        WHERE memid != 0\n",
    "        GROUP BY f.name\n",
    "        ORDER BY member_uses DESC\n",
    "        \"\"\"\n",
    "    cur.execute(query12)\n",
    " \n",
    "    rows = cur.fetchall()\n",
    " \n",
    "    for row in rows:\n",
    "        print(row)"
   ]
  },
  {
   "cell_type": "code",
   "execution_count": 8,
   "metadata": {},
   "outputs": [
    {
     "name": "stdout",
     "output_type": "stream",
     "text": [
      "2.6.0\n",
      "2. Query all tasks\n",
      "('Pool Table', 783)\n",
      "('Snooker Table', 421)\n",
      "('Massage Room 1', 421)\n",
      "('Table Tennis', 385)\n",
      "('Badminton Court', 344)\n",
      "('Tennis Court 1', 308)\n",
      "('Tennis Court 2', 276)\n",
      "('Squash Court', 195)\n",
      "('Massage Room 2', 27)\n"
     ]
    }
   ],
   "source": [
    "def main():\n",
    "    database = \"sqlite_db_pythonsqlite.db\"\n",
    " \n",
    "    # create a database connection\n",
    "    conn = create_connection(database)\n",
    "    with conn: \n",
    "        print(\"2. Query all tasks\")\n",
    "        select_all_tasks(conn)\n",
    " \n",
    " \n",
    "if __name__ == '__main__':\n",
    "    main()"
   ]
  },
  {
   "cell_type": "code",
   "execution_count": 9,
   "metadata": {},
   "outputs": [],
   "source": [
    "# Q13: Find the facilities usage by month, but not guests\n",
    "def select_all_tasks(conn):\n",
    "    \"\"\"\n",
    "    Query all rows in the tasks table\n",
    "    :param conn: the Connection object\n",
    "    :return:\n",
    "    \"\"\"\n",
    "    cur = conn.cursor()\n",
    "    \n",
    "    query13 = \"\"\"\n",
    "        SELECT strftime('%m', starttime) AS month, COUNT(memid) AS monthly_total\n",
    "        FROM Bookings AS b\n",
    "        INNER JOIN Facilities AS f USING (facid)\n",
    "        INNER JOIN Members AS m USING (memid)\n",
    "        WHERE memid != 0\n",
    "        GROUP BY month\n",
    "        \"\"\"\n",
    "    cur.execute(query13)\n",
    " \n",
    "    rows = cur.fetchall()\n",
    " \n",
    "    for row in rows:\n",
    "        print(row)"
   ]
  },
  {
   "cell_type": "code",
   "execution_count": 10,
   "metadata": {},
   "outputs": [
    {
     "name": "stdout",
     "output_type": "stream",
     "text": [
      "2.6.0\n",
      "2. Query all tasks\n",
      "('07', 480)\n",
      "('08', 1168)\n",
      "('09', 1512)\n"
     ]
    }
   ],
   "source": [
    "def main():\n",
    "    database = \"sqlite_db_pythonsqlite.db\"\n",
    " \n",
    "    # create a database connection\n",
    "    conn = create_connection(database)\n",
    "    with conn: \n",
    "        print(\"2. Query all tasks\")\n",
    "        select_all_tasks(conn)\n",
    " \n",
    " \n",
    "if __name__ == '__main__':\n",
    "    main()"
   ]
  },
  {
   "cell_type": "code",
   "execution_count": null,
   "metadata": {},
   "outputs": [],
   "source": []
  }
 ],
 "metadata": {
  "kernelspec": {
   "display_name": "Python 3",
   "language": "python",
   "name": "python3"
  },
  "language_info": {
   "codemirror_mode": {
    "name": "ipython",
    "version": 3
   },
   "file_extension": ".py",
   "mimetype": "text/x-python",
   "name": "python",
   "nbconvert_exporter": "python",
   "pygments_lexer": "ipython3",
   "version": "3.8.3"
  }
 },
 "nbformat": 4,
 "nbformat_minor": 4
}
